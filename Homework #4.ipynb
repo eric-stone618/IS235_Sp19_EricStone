{
 "cells": [
  {
   "cell_type": "code",
   "execution_count": 1,
   "metadata": {},
   "outputs": [
    {
     "name": "stdout",
     "output_type": "stream",
     "text": [
      "short\n",
      "short\n",
      "buy\n",
      "buy\n",
      "buy\n",
      "short\n",
      "buy\n",
      "short\n",
      "short\n",
      "buy\n",
      "buy\n",
      "buy\n",
      "buy\n",
      "short\n",
      "buy\n",
      "buy\n",
      "short\n",
      "short\n",
      "short\n",
      "buy\n",
      "short\n",
      "short\n",
      "buy\n",
      "short\n",
      "short\n",
      "buy\n",
      "short\n",
      "short\n",
      "buy\n",
      "buy\n",
      "short\n",
      "short\n",
      "buy\n",
      "buy\n",
      "short\n",
      "short\n",
      "buy\n",
      "buy\n",
      "short\n"
     ]
    },
    {
     "ename": "AttributeError",
     "evalue": "'float' object has no attribute 'count'",
     "output_type": "error",
     "traceback": [
      "\u001b[0;31m---------------------------------------------------------------------------\u001b[0m",
      "\u001b[0;31mAttributeError\u001b[0m                            Traceback (most recent call last)",
      "\u001b[0;32m<ipython-input-1-0dadd680505f>\u001b[0m in \u001b[0;36m<module>\u001b[0;34m\u001b[0m\n\u001b[1;32m     24\u001b[0m         \u001b[0mprint\u001b[0m \u001b[0;34m(\u001b[0m\u001b[0;34m\"ignore\"\u001b[0m\u001b[0;34m)\u001b[0m\u001b[0;34m\u001b[0m\u001b[0;34m\u001b[0m\u001b[0m\n\u001b[1;32m     25\u001b[0m \u001b[0mstring\u001b[0m \u001b[0;34m=\u001b[0m \u001b[0;34m(\u001b[0m\u001b[0mfactor\u001b[0m\u001b[0;34m*\u001b[0m\u001b[0mrating\u001b[0m\u001b[0;34m)\u001b[0m\u001b[0;34m\u001b[0m\u001b[0;34m\u001b[0m\u001b[0m\n\u001b[0;32m---> 26\u001b[0;31m \u001b[0mprint\u001b[0m \u001b[0;34m(\u001b[0m\u001b[0mstring\u001b[0m\u001b[0;34m.\u001b[0m\u001b[0mcount\u001b[0m\u001b[0;34m(\u001b[0m\u001b[0;34m\"buy\"\u001b[0m\u001b[0;34m,\u001b[0m \u001b[0;36m0\u001b[0m\u001b[0;34m,\u001b[0m \u001b[0;36m100\u001b[0m\u001b[0;34m)\u001b[0m\u001b[0;34m)\u001b[0m\u001b[0;34m\u001b[0m\u001b[0;34m\u001b[0m\u001b[0m\n\u001b[0m\u001b[1;32m     27\u001b[0m \u001b[0mprint\u001b[0m \u001b[0;34m(\u001b[0m\u001b[0mstring\u001b[0m\u001b[0;34m.\u001b[0m\u001b[0mcount\u001b[0m\u001b[0;34m(\u001b[0m\u001b[0;34m\"short\"\u001b[0m\u001b[0;34m,\u001b[0m \u001b[0;36m0\u001b[0m\u001b[0;34m,\u001b[0m \u001b[0;36m100\u001b[0m\u001b[0;34m)\u001b[0m\u001b[0;34m)\u001b[0m\u001b[0;34m\u001b[0m\u001b[0;34m\u001b[0m\u001b[0m\n\u001b[1;32m     28\u001b[0m \u001b[0mprint\u001b[0m \u001b[0;34m(\u001b[0m\u001b[0mstring\u001b[0m\u001b[0;34m.\u001b[0m\u001b[0mcount\u001b[0m\u001b[0;34m(\u001b[0m\u001b[0;34m\"ignore\"\u001b[0m\u001b[0;34m,\u001b[0m \u001b[0;36m0\u001b[0m\u001b[0;34m,\u001b[0m \u001b[0;36m100\u001b[0m\u001b[0;34m)\u001b[0m\u001b[0;34m)\u001b[0m\u001b[0;34m\u001b[0m\u001b[0;34m\u001b[0m\u001b[0m\n",
      "\u001b[0;31mAttributeError\u001b[0m: 'float' object has no attribute 'count'"
     ]
    }
   ],
   "source": [
    "import pandas as pd\n",
    "#factor value = 100000\n",
    "factor = 100000\n",
    "#import data\n",
    "dfrate_price = pd.read_csv(\"IS235Ratings_Prices.csv\")\n",
    "#define the length of the file -> file_length\n",
    "lines = dfrate_price.index.size\n",
    "\n",
    "#start loop from first line until last line (file_length)\n",
    "for i in range(lines):\n",
    "    #rating from CSV file\n",
    "    rating = float(dfrate_price.at[i, 'Rating'])\n",
    "    #price from CSV file\n",
    "    price = float(dfrate_price.at[i, 'Price'])\n",
    "    #make buy, short, or ignore decision \n",
    "    #if the price is lower than the (factor*rating), buy\n",
    "    if price <= (factor*rating):\n",
    "        print (\"buy\")\n",
    "    #if the price is higher than the (factor*rating), short\n",
    "    if price >= (factor*rating):\n",
    "        print (\"short\")\n",
    "    #if the price is the same as (factor*rating), do nothing\n",
    "    if price == (factor*rating):\n",
    "        print (\"ignore\") \n",
    "string = (factor*rating)\n",
    "print (string.count(\"buy\", 0, 100))\n",
    "print (string.count(\"short\", 0, 100))\n",
    "print (string.count(\"ignore\", 0, 100))\n",
    "\n",
    "#end loop\n",
    "#count number of buys\n",
    "#count number of sells\n",
    "#count number of ignores\n",
    "# print all 3 counts at end of algo\n",
    "#print rating as well as price"
   ]
  },
  {
   "cell_type": "code",
   "execution_count": null,
   "metadata": {},
   "outputs": [],
   "source": []
  }
 ],
 "metadata": {
  "kernelspec": {
   "display_name": "Python 3",
   "language": "python",
   "name": "python3"
  },
  "language_info": {
   "codemirror_mode": {
    "name": "ipython",
    "version": 3
   },
   "file_extension": ".py",
   "mimetype": "text/x-python",
   "name": "python",
   "nbconvert_exporter": "python",
   "pygments_lexer": "ipython3",
   "version": "3.7.1"
  }
 },
 "nbformat": 4,
 "nbformat_minor": 2
}
