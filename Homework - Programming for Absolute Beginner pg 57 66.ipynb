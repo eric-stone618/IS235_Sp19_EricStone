{
 "cells": [
  {
   "cell_type": "code",
   "execution_count": 1,
   "metadata": {},
   "outputs": [
    {
     "name": "stdout",
     "output_type": "stream",
     "text": [
      "welcome to system security inc.\n",
      "-- where security is out middle name\n",
      "\n",
      "Enter your password: secret\n",
      "Access Granted\n",
      "\n",
      "\n",
      "Press the enter key to exit.\n"
     ]
    },
    {
     "data": {
      "text/plain": [
       "''"
      ]
     },
     "execution_count": 1,
     "metadata": {},
     "output_type": "execute_result"
    }
   ],
   "source": [
    "#granted or denied\n",
    "#demonstrates an else clause\n",
    "print (\"welcome to system security inc.\")\n",
    "print (\"-- where security is out middle name\\n\")\n",
    "password = input (\"Enter your password: \")\n",
    "if password == \"secret\":\n",
    "    print (\"Access Granted\")\n",
    "else:\n",
    "    print (\"Access Denied\")\n",
    "input(\"\\n\\nPress the enter key to exit.\")"
   ]
  },
  {
   "cell_type": "code",
   "execution_count": 2,
   "metadata": {},
   "outputs": [
    {
     "name": "stdout",
     "output_type": "stream",
     "text": [
      "I sense your energy. Your true emotions are coming across my screen.\n",
      "You are...\n",
      "happy\n",
      "...today.\n",
      "\n",
      "\n",
      "Press the enter key to exit.1\n"
     ]
    },
    {
     "data": {
      "text/plain": [
       "'1'"
      ]
     },
     "execution_count": 2,
     "metadata": {},
     "output_type": "execute_result"
    }
   ],
   "source": [
    "#Mood Computer\n",
    "#demonstrates elif clause\n",
    "import random\n",
    "print (\"I sense your energy. Your true emotions are coming across my screen.\")\n",
    "print (\"You are...\")\n",
    "mood = random.randint(1,3)\n",
    "if mood == 1:\n",
    "    #happy\n",
    "    print (\"happy\")\n",
    "elif mood == 2:\n",
    "    #neutral\n",
    "    print (\"neutral\")\n",
    "elif mood ==3:\n",
    "    #sad\n",
    "    print (\"sad\")\n",
    "else: \n",
    "    print (\"Illegal mood value! (You must reall be in a bad mood).\")\n",
    "print (\"...today.\")\n",
    "input (\"\\n\\nPress the enter key to exit.\")"
   ]
  },
  {
   "cell_type": "code",
   "execution_count": 3,
   "metadata": {},
   "outputs": [
    {
     "name": "stdout",
     "output_type": "stream",
     "text": [
      "\tWelcome to the 'Three-year-old simulator'\n",
      "\n",
      "This program simulates a conversation with a three year old child.\n",
      "Try to stop the madness.\n",
      "\n"
     ]
    },
    {
     "ename": "NameError",
     "evalue": "name 'response' is not defined",
     "output_type": "error",
     "traceback": [
      "\u001b[0;31m---------------------------------------------------------------------------\u001b[0m",
      "\u001b[0;31mNameError\u001b[0m                                 Traceback (most recent call last)",
      "\u001b[0;32m<ipython-input-3-1a068af4e014>\u001b[0m in \u001b[0;36m<module>\u001b[0;34m\u001b[0m\n\u001b[1;32m      5\u001b[0m \u001b[0mprint\u001b[0m \u001b[0;34m(\u001b[0m\u001b[0;34m\"Try to stop the madness.\\n\"\u001b[0m\u001b[0;34m)\u001b[0m\u001b[0;34m\u001b[0m\u001b[0;34m\u001b[0m\u001b[0m\n\u001b[1;32m      6\u001b[0m \u001b[0;34m\u001b[0m\u001b[0m\n\u001b[0;32m----> 7\u001b[0;31m \u001b[0mresponse\u001b[0m \u001b[0;34m==\u001b[0m \u001b[0;34m\"\"\u001b[0m\u001b[0;34m\u001b[0m\u001b[0;34m\u001b[0m\u001b[0m\n\u001b[0m\u001b[1;32m      8\u001b[0m \u001b[0;32mwhile\u001b[0m \u001b[0mresponse\u001b[0m \u001b[0;34m!=\u001b[0m \u001b[0;34m\"Because.\"\u001b[0m\u001b[0;34m:\u001b[0m\u001b[0;34m\u001b[0m\u001b[0;34m\u001b[0m\u001b[0m\n\u001b[1;32m      9\u001b[0m     \u001b[0mresponse\u001b[0m \u001b[0;34m=\u001b[0m \u001b[0minput\u001b[0m\u001b[0;34m(\u001b[0m\u001b[0;34m\"Why?\\n\"\u001b[0m\u001b[0;34m)\u001b[0m\u001b[0;34m\u001b[0m\u001b[0;34m\u001b[0m\u001b[0m\n",
      "\u001b[0;31mNameError\u001b[0m: name 'response' is not defined"
     ]
    }
   ],
   "source": [
    "#Three year-old simulator\n",
    "#demonstrates the while loop\n",
    "print (\"\\tWelcome to the 'Three-year-old simulator'\\n\")\n",
    "print (\"This program simulates a conversation with a three year old child.\")\n",
    "print (\"Try to stop the madness.\\n\")\n",
    "\n",
    "response == \"\"\n",
    "while response != \"Because.\":\n",
    "    response = input(\"Why?\\n\")\n",
    "\n",
    "print (\"Oh. Okay.\")\n",
    "\n",
    "input (\"\\n\\nPress enter to exit\")\n",
    "\n",
    "\n",
    "\n",
    "\n"
   ]
  },
  {
   "cell_type": "code",
   "execution_count": 4,
   "metadata": {},
   "outputs": [
    {
     "ename": "SyntaxError",
     "evalue": "invalid syntax (<ipython-input-4-1bde9521b08a>, line 2)",
     "output_type": "error",
     "traceback": [
      "\u001b[0;36m  File \u001b[0;32m\"<ipython-input-4-1bde9521b08a>\"\u001b[0;36m, line \u001b[0;32m2\u001b[0m\n\u001b[0;31m    while counter <= 10\u001b[0m\n\u001b[0m                       ^\u001b[0m\n\u001b[0;31mSyntaxError\u001b[0m\u001b[0;31m:\u001b[0m invalid syntax\n"
     ]
    }
   ],
   "source": [
    "counter = 0\n",
    "while counter <= 10\n",
    "    print (counter)"
   ]
  },
  {
   "cell_type": "code",
   "execution_count": null,
   "metadata": {},
   "outputs": [],
   "source": []
  }
 ],
 "metadata": {
  "kernelspec": {
   "display_name": "Python 3",
   "language": "python",
   "name": "python3"
  },
  "language_info": {
   "codemirror_mode": {
    "name": "ipython",
    "version": 3
   },
   "file_extension": ".py",
   "mimetype": "text/x-python",
   "name": "python",
   "nbconvert_exporter": "python",
   "pygments_lexer": "ipython3",
   "version": "3.7.1"
  }
 },
 "nbformat": 4,
 "nbformat_minor": 2
}
