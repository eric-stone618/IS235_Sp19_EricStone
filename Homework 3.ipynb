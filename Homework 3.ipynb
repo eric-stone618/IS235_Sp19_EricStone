{
 "cells": [
  {
   "cell_type": "code",
   "execution_count": 2,
   "metadata": {},
   "outputs": [
    {
     "name": "stdout",
     "output_type": "stream",
     "text": [
      "What is the rating? between 0-10\n",
      "1\n",
      "What is the price? between 10000 - 200000\n",
      "123000\n",
      "buy\n",
      "The Price is not between 10000 and 200000!\n"
     ]
    }
   ],
   "source": [
    "import random\n",
    "#factor = 123000\n",
    "factor = 123000\n",
    "#the two inputs from user, \n",
    "    #rating between 0 and -10\n",
    "rating = input (\"What is the rating? between 0-10\\n\")\n",
    "intRating = int(rating)\n",
    "if intRating>= 0 and intRating <= 10:    \n",
    "#price between 10,0000 and 200,000\n",
    "    price = input(\"What is the price? between 10000 - 200000\\n\")\n",
    "    intPrice = int(price)\n",
    "    if intPrice >= 10000 and intPrice <=200000:\n",
    "        print (\"buy\")\n",
    "    if intPrice > intRating * factor:\n",
    "        print (\"dont buy\")\n",
    "    else:\n",
    "        print (\"The Price is not between 10000 and 200000!\")\n",
    "else: \n",
    "    print (\"Your rating is not between 0-10!\")\n",
    "    \n",
    "#if the price is lower than the (rating*factor), buy\n",
    "#if the price is higher than the (rating*factor), dont buy"
   ]
  },
  {
   "cell_type": "code",
   "execution_count": null,
   "metadata": {},
   "outputs": [],
   "source": []
  }
 ],
 "metadata": {
  "kernelspec": {
   "display_name": "Python 3",
   "language": "python",
   "name": "python3"
  },
  "language_info": {
   "codemirror_mode": {
    "name": "ipython",
    "version": 3
   },
   "file_extension": ".py",
   "mimetype": "text/x-python",
   "name": "python",
   "nbconvert_exporter": "python",
   "pygments_lexer": "ipython3",
   "version": "3.7.1"
  }
 },
 "nbformat": 4,
 "nbformat_minor": 2
}
