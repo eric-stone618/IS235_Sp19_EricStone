{
 "cells": [
  {
   "cell_type": "code",
   "execution_count": null,
   "metadata": {},
   "outputs": [],
   "source": [
    "#get a sentence from the user\n",
    "#store that sentence as a variable\n",
    "sentence1 = input(\"Type in a sentence and hit enter\")\n",
    "sentence2 = \"\"\n",
    "#get length of the sentence\n",
    "length = len(sentence1)\n",
    "VOWELS=\"aeiouAEIOU\"\n",
    "CHARACTERS = \"!@#$%^&*\"\n",
    "no_of_vowels = 0\n",
    "no_of_consonants = 0\n",
    "no_of_characters = 0\n",
    "#loop from 0 length of sentence\n",
    "for i in range(length):\n",
    "    #if consonant, add to new string\n",
    "    if sentence1[i] in VOWELS:\n",
    "        #do nothing\n",
    "        sentence2+=sentence1[i]\n",
    "        no_of_vowels += 1\n",
    "    else:\n",
    "        no_of_consonants+=1\n",
    "    if sentence[i] in CHARACTERS:\n",
    "        sentence2+=sentence1[i]\n",
    "        no_of_characters += 1\n",
    "    #if else, do nothing\n",
    "    #remove the vowels from the sentence\n",
    "#print new sentence w/o vowels\n",
    "print (sentence2)\n",
    "print (\"Number of Vowels: \", no_of_vowels)\n",
    "print (\"Number of Consonants\", no_of_consonants)\n",
    "print (\"Number of Other Characters\", no_of_characters)\n",
    "#check for vowels, add everything else as consonant"
   ]
  },
  {
   "cell_type": "code",
   "execution_count": null,
   "metadata": {},
   "outputs": [],
   "source": []
  },
  {
   "cell_type": "code",
   "execution_count": null,
   "metadata": {},
   "outputs": [],
   "source": []
  }
 ],
 "metadata": {
  "kernelspec": {
   "display_name": "Python 3",
   "language": "python",
   "name": "python3"
  },
  "language_info": {
   "codemirror_mode": {
    "name": "ipython",
    "version": 3
   },
   "file_extension": ".py",
   "mimetype": "text/x-python",
   "name": "python",
   "nbconvert_exporter": "python",
   "pygments_lexer": "ipython3",
   "version": "3.7.1"
  }
 },
 "nbformat": 4,
 "nbformat_minor": 2
}
