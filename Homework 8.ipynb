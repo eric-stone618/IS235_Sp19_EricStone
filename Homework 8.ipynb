{
 "cells": [
  {
   "cell_type": "code",
   "execution_count": null,
   "metadata": {},
   "outputs": [],
   "source": [
    "import pandas as pd\n",
    "#identify factor\n",
    "#import data\n",
    "dfrate_price = pd.read_csv (\"sentiment_analysis.csv\")\n",
    "#define length of file (file_length)\n",
    "lines = dfrate_price.index.size\n",
    "#identify the word\n",
    "sentiment = dfrate_price.index.size\n",
    "#find if each word has an \"e\"\n",
    "if \"e\" in sentiment and \"w\" in sentiment:\n",
    "    factor = 3000\n",
    "elif \"r\" in sentiment not \"t\" in sentiment:\n",
    "    factor = 4000\n",
    "    #if it has an \"e\" and \"w\", use a factor of 3000\n",
    "\n",
    "#identify target price (factor*rating)\n",
    "target_price = (factor*rating)\n",
    "#start loop from first line until last line (file_length)\n",
    "for i in range(lines):\n",
    "    #rating from the CSV file\n",
    "    rating = float(dfrate_price.at[i, 'Rating'])\n",
    "    #price from CSV file\n",
    "    price = float(dfrate_price.at[i, 'Price'])\n",
    "    #make, buy, short, do nothing decision\n",
    "    #if the target price is lower than (factor*rating), buy\n",
    "    if price < target_price:\n",
    "        print (\"buy\")\n",
    "    #if the target price is higher than (factor*rating), short\n",
    "    if price > target_price:\n",
    "        print (\"short\")\n",
    "    #if the target price is equal to (factor*rating), do nothing\n",
    "    if price == target_price:\n",
    "        print (\"ignore\")\n",
    "#print word, if it has letter \"e\", factor, current price, target price, buy/short/do nothing\n",
    "print (sentiment, \"the letter 'e' is in the word\", factor, price, target_price)"
   ]
  }
 ],
 "metadata": {
  "kernelspec": {
   "display_name": "Python 3",
   "language": "python",
   "name": "python3"
  },
  "language_info": {
   "codemirror_mode": {
    "name": "ipython",
    "version": 3
   },
   "file_extension": ".py",
   "mimetype": "text/x-python",
   "name": "python",
   "nbconvert_exporter": "python",
   "pygments_lexer": "ipython3",
   "version": "3.7.1"
  }
 },
 "nbformat": 4,
 "nbformat_minor": 2
}
