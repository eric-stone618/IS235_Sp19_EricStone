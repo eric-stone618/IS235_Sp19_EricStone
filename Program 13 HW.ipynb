{
 "cells": [
  {
   "cell_type": "code",
   "execution_count": 1,
   "metadata": {},
   "outputs": [
    {
     "ename": "NameError",
     "evalue": "name 'inventory' is not defined",
     "output_type": "error",
     "traceback": [
      "\u001b[0;31m---------------------------------------------------------------------------\u001b[0m",
      "\u001b[0;31mNameError\u001b[0m                                 Traceback (most recent call last)",
      "\u001b[0;32m<ipython-input-1-20f1e7815e3f>\u001b[0m in \u001b[0;36m<module>\u001b[0;34m\u001b[0m\n\u001b[0;32m----> 1\u001b[0;31m \u001b[0minventory\u001b[0m\u001b[0;34m[\u001b[0m\u001b[0;36m0\u001b[0m\u001b[0;34m]\u001b[0m \u001b[0;34m=\u001b[0m \u001b[0;34m\"crossbow\"\u001b[0m\u001b[0;34m\u001b[0m\u001b[0;34m\u001b[0m\u001b[0m\n\u001b[0m\u001b[1;32m      2\u001b[0m \u001b[0;31m#assign by slice\u001b[0m\u001b[0;34m\u001b[0m\u001b[0;34m\u001b[0m\u001b[0;34m\u001b[0m\u001b[0m\n\u001b[1;32m      3\u001b[0m \u001b[0mprint\u001b[0m \u001b[0;34m(\u001b[0m\u001b[0;34m\"You use your gold and gems to buy an orb of future telling\"\u001b[0m\u001b[0;34m)\u001b[0m\u001b[0;34m\u001b[0m\u001b[0;34m\u001b[0m\u001b[0m\n\u001b[1;32m      4\u001b[0m \u001b[0minventory\u001b[0m\u001b[0;34m[\u001b[0m\u001b[0;36m4\u001b[0m\u001b[0;34m:\u001b[0m\u001b[0;36m6\u001b[0m\u001b[0;34m]\u001b[0m \u001b[0;34m=\u001b[0m \u001b[0;34m[\u001b[0m\u001b[0;34m\"orb of future telling\"\u001b[0m\u001b[0;34m]\u001b[0m\u001b[0;34m\u001b[0m\u001b[0;34m\u001b[0m\u001b[0m\n\u001b[1;32m      5\u001b[0m \u001b[0mprint\u001b[0m \u001b[0;34m(\u001b[0m\u001b[0;34m\"Your inventory is now: \"\u001b[0m\u001b[0;34m)\u001b[0m\u001b[0;34m\u001b[0m\u001b[0;34m\u001b[0m\u001b[0m\n",
      "\u001b[0;31mNameError\u001b[0m: name 'inventory' is not defined"
     ]
    }
   ],
   "source": [
    "inventory[0] = \"crossbow\"\n",
    "#assign by slice\n",
    "print (\"You use your gold and gems to buy an orb of future telling\")\n",
    "inventory[4:6] = [\"orb of future telling\"]\n",
    "print (\"Your inventory is now: \")\n",
    "print (inventory)\n",
    "\n",
    "#delete an element\n",
    "print (\"In a great battle, your shield is destroyed\")\n",
    "del inventory [2]\n",
    "print (\"Your inventory is now: \")\n",
    "print (inventory)\n",
    "\n",
    "#delete a slice\n",
    "print (\"Your crossbow and armor are stolen by thieves\")\n",
    "del inventory [:3]\n",
    "print (\"Your inventory is now: \")\n",
    "print (inventory)\n"
   ]
  },
  {
   "cell_type": "code",
   "execution_count": 2,
   "metadata": {},
   "outputs": [
    {
     "ename": "SyntaxError",
     "evalue": "invalid syntax (<ipython-input-2-8a7940f85d41>, line 8)",
     "output_type": "error",
     "traceback": [
      "\u001b[0;36m  File \u001b[0;32m\"<ipython-input-2-8a7940f85d41>\"\u001b[0;36m, line \u001b[0;32m8\u001b[0m\n\u001b[0;31m    while choice = \"0\":\u001b[0m\n\u001b[0m                 ^\u001b[0m\n\u001b[0;31mSyntaxError\u001b[0m\u001b[0;31m:\u001b[0m invalid syntax\n"
     ]
    }
   ],
   "source": [
    "#High Scores\n",
    "#list methods\n",
    "\n",
    "scores = []\n",
    "\n",
    "choice = none\n",
    "\n",
    "while choice = \"0\":\n",
    "    print (\"High scores: 0 - exit 1 show scores 2 - add a score 3 - delete a score 4 - sort a score\")\n",
    "choice = input (\"Choice: \")\n",
    "print ()\n",
    "\n",
    "#exit\n",
    "if choice == \"0\":\n",
    "    print (\"goodbye\")\n",
    "\n",
    "#list high scores\n",
    "elif choice == \"1\":\n",
    "    print (\"high scores\")\n",
    "    for score in scores:\n",
    "        print (score)\n",
    "\n",
    "#add score\n",
    "elif choice = \"2\":\n",
    "    score = int(input(\"What score did you get?: \"))\n",
    "    scores.append(score)\n",
    "    \n",
    "#remove score\n",
    "elif choice == \"3\":\n",
    "    score = int(input(\"remove which score?: \"))\n",
    "    if score in scores:\n",
    "        scores.remove(score)\n",
    "    else:\n",
    "        print(score, \"Isn't in the high scores list.\")\n",
    "        \n",
    "#sort scores\n",
    "elif choice == \"4\":\n",
    "    scores.sort(reverse=True)\n",
    "    \n",
    "#unknown choice\n",
    "else:\n",
    "    print (\"Sorry, but\", choice, \"isn't a valid choice\")"
   ]
  },
  {
   "cell_type": "code",
   "execution_count": null,
   "metadata": {},
   "outputs": [],
   "source": []
  }
 ],
 "metadata": {
  "kernelspec": {
   "display_name": "Python 3",
   "language": "python",
   "name": "python3"
  },
  "language_info": {
   "codemirror_mode": {
    "name": "ipython",
    "version": 3
   },
   "file_extension": ".py",
   "mimetype": "text/x-python",
   "name": "python",
   "nbconvert_exporter": "python",
   "pygments_lexer": "ipython3",
   "version": "3.7.1"
  }
 },
 "nbformat": 4,
 "nbformat_minor": 2
}
