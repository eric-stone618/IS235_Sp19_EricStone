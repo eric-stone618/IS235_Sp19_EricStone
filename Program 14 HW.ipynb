{
 "cells": [
  {
   "cell_type": "code",
   "execution_count": 1,
   "metadata": {},
   "outputs": [
    {
     "ename": "SyntaxError",
     "evalue": "invalid syntax (<ipython-input-1-f6407382c830>, line 7)",
     "output_type": "error",
     "traceback": [
      "\u001b[0;36m  File \u001b[0;32m\"<ipython-input-1-f6407382c830>\"\u001b[0;36m, line \u001b[0;32m7\u001b[0m\n\u001b[0;31m    while choice = \"0\":\u001b[0m\n\u001b[0m                 ^\u001b[0m\n\u001b[0;31mSyntaxError\u001b[0m\u001b[0;31m:\u001b[0m invalid syntax\n"
     ]
    }
   ],
   "source": [
    "#High scores 2.0\n",
    "#nested sequences\n",
    "\n",
    "scores = []\n",
    "\n",
    "choice = None\n",
    "while choice = \"0\":\n",
    "    print(\"High Scores 2.0, 0 - quit, 1 - list scores, 2 - add a score\")\n",
    "\n",
    "choice = input (\"choice: \")\n",
    "print ()\n",
    "if choice = \"0\":\n",
    "    print (\"Good-bye\")\n",
    "\n",
    "elif choice == \"1\":\n",
    "    print (\"High Scores\")\n",
    "    print (\"Name\\Score\")\n",
    "    for entry in scores:\n",
    "        score, name = entry\n",
    "        print (name, \"\\t\", score)\n",
    "        \n",
    "elif choice == \"2\":\n",
    "    name = input(\"What is the name?: \")\n",
    "    score = int(input(\"What score did they get?: \"))\n",
    "    entry = (score, name)\n",
    "    scores.append(entry)\n",
    "    scores.sort(reverse=True)\n",
    "    scores = scores [:5]\n",
    "\n",
    "else:\n",
    "    print (\"Sorry, but\", choice, \"isn't a valid choice\")\n",
    "    \n",
    "input(\"Press enter to exit\")\n"
   ]
  },
  {
   "cell_type": "code",
   "execution_count": null,
   "metadata": {},
   "outputs": [],
   "source": []
  }
 ],
 "metadata": {
  "kernelspec": {
   "display_name": "Python 3",
   "language": "python",
   "name": "python3"
  },
  "language_info": {
   "codemirror_mode": {
    "name": "ipython",
    "version": 3
   },
   "file_extension": ".py",
   "mimetype": "text/x-python",
   "name": "python",
   "nbconvert_exporter": "python",
   "pygments_lexer": "ipython3",
   "version": "3.7.1"
  }
 },
 "nbformat": 4,
 "nbformat_minor": 2
}
