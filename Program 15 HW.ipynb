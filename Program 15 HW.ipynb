{
 "cells": [
  {
   "cell_type": "code",
   "execution_count": 1,
   "metadata": {},
   "outputs": [
    {
     "name": "stdout",
     "output_type": "stream",
     "text": [
      "['khakis', 'dress shirt', 'jacket']\n",
      "['khakis', 'dress shirt', 'jacket']\n",
      "['khakis', 'dress shirt', 'jacket']\n",
      "['khakis', 'dress shirt', 'red sweater']\n",
      "['khakis', 'dress shirt', 'red sweater']\n",
      "['khakis', 'dress shirt', 'red sweater']\n",
      "['khakis', 'dress shirt', 'red sweater']\n",
      "['khakis', 'dress shirt', 'red sweater']\n"
     ]
    },
    {
     "data": {
      "text/plain": [
       "['khakis', 'dress shirt', 'jacket']"
      ]
     },
     "execution_count": 1,
     "metadata": {},
     "output_type": "execute_result"
    }
   ],
   "source": [
    "mike = [\"khakis\", \"dress shirt\", \"jacket\"]\n",
    "mr_dawson = mike\n",
    "honey = mike\n",
    "print (mike)\n",
    "[\"khakis\", \"dress shirt\", \"jacket\"]\n",
    "print (mr_dawson)\n",
    "[\"khakis\", \"dress shirt\", \"jacket\"]\n",
    "print (honey)\n",
    "[\"khakis\", \"dress shirt\", \"jacket\"]\n",
    "\n",
    "honey[2] = \"red sweater\"\n",
    "print (honey)\n",
    "[\"khakis\", \"dress shirt\", \"jacket\"]\n",
    "print (mike)\n",
    "[\"khakis\", \"dress shirt\", \"jacket\"]\n",
    "print (mr_dawson)\n",
    "[\"khakis\", \"dress shirt\", \"red sweater\"]\n",
    "\n",
    "\n",
    "mike = [\"khakis\", \"dress shirt\", \"red sweater\"]\n",
    "honey = mike[:]\n",
    "honey[2] = \"red sweater\"\n",
    "print (honey)\n",
    "[\"khakis\", \"dress shirt\", \"red sweater\"]\n",
    "print (mike)\n",
    "[\"khakis\", \"dress shirt\", \"jacket\"]"
   ]
  },
  {
   "cell_type": "code",
   "execution_count": null,
   "metadata": {},
   "outputs": [],
   "source": [
    "#geek translator\n",
    "geek = {\"404\" : \"Clueless. From the web error message 404, meaning page not found.\", \"Googling\" : \"Searching the Internet for background information on a person.\", \"Keyboard Plaque\" : \"The collection of debris found in computer keyboards.\", \"Link Rot\" : \"The process by which web page links become obsolete.\",\n",
    "\"Percussive Maintenance\" : \"The act of striking an electronic device to make it w \"Uninstalled\" : \"Being fired. Especially popular during the dot-bomb era.\"}\n",
    "\n",
    "geek [\"404\"]\n",
    "'clueless. From the web error message 404, meaning page not found'\n",
    "geek[\"link rot\"]\n",
    "'the process by which web page links become obsolete'\n",
    "\n",
    "geek[\"dancing balcony\"]\n",
    "traceback (most recent call last):\n",
    "    file \"<pyshell#1>\", line 1, in <module>\n",
    "    geek[\"dancing balcony\"]\n",
    "    KeyError: 'Dancing Baloney'\n",
    "\n",
    "if \"Dancing Baloney\" in geek:\n",
    "        print (\"I know what Dancing Baloney is. \")\n",
    "    else:\n",
    "        print (\"I have no idea what Dancing Baloney is. \")\n",
    "        \n",
    "choice = none\n",
    "while choice = \"0\":\n",
    "    print \\\n",
    "    \"\"\"\n",
    "    Geek Translator\n",
    "0 - Quit\n",
    "1 - Look Up a Geek Term\n",
    "2 - Add a Geek Term\n",
    "3 - Redefine a Geek Term\n",
    "4 - Delete a Geek Term\n",
    "\"\"\" \n",
    "choice = raw_input(\"Choice: \") print\n",
    "    # exit\n",
    "    if choice == \"0\":\n",
    "        print \"Good-bye.\" "
   ]
  }
 ],
 "metadata": {
  "kernelspec": {
   "display_name": "Python 3",
   "language": "python",
   "name": "python3"
  },
  "language_info": {
   "codemirror_mode": {
    "name": "ipython",
    "version": 3
   },
   "file_extension": ".py",
   "mimetype": "text/x-python",
   "name": "python",
   "nbconvert_exporter": "python",
   "pygments_lexer": "ipython3",
   "version": "3.7.1"
  }
 },
 "nbformat": 4,
 "nbformat_minor": 2
}
