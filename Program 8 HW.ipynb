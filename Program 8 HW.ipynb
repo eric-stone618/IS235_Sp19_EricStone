{
 "cells": [
  {
   "cell_type": "code",
   "execution_count": 3,
   "metadata": {},
   "outputs": [
    {
     "name": "stdout",
     "output_type": "stream",
     "text": [
      "\n",
      "                         Trust Fund Buddy\n",
      "Totals your monthly spending so that your trust fund doesn't run out (and you're forced to get a real job).\n",
      "Please enter the requested, monthly costs. Since you're rich, ignore pennies and use only dollar amounts.\n",
      "\n"
     ]
    },
    {
     "ename": "NameError",
     "evalue": "name 'raw_input' is not defined",
     "output_type": "error",
     "traceback": [
      "\u001b[0;31m---------------------------------------------------------------------------\u001b[0m",
      "\u001b[0;31mNameError\u001b[0m                                 Traceback (most recent call last)",
      "\u001b[0;32m<ipython-input-3-0d48b79bd223>\u001b[0m in \u001b[0;36m<module>\u001b[0;34m\u001b[0m\n\u001b[1;32m      7\u001b[0m \u001b[0mPlease\u001b[0m \u001b[0menter\u001b[0m \u001b[0mthe\u001b[0m \u001b[0mrequested\u001b[0m\u001b[0;34m,\u001b[0m \u001b[0mmonthly\u001b[0m \u001b[0mcosts\u001b[0m\u001b[0;34m.\u001b[0m \u001b[0mSince\u001b[0m \u001b[0myou\u001b[0m\u001b[0;31m'\u001b[0m\u001b[0mre\u001b[0m \u001b[0mrich\u001b[0m\u001b[0;34m,\u001b[0m \u001b[0mignore\u001b[0m \u001b[0mpennies\u001b[0m \u001b[0;32mand\u001b[0m \u001b[0muse\u001b[0m \u001b[0monly\u001b[0m \u001b[0mdollar\u001b[0m \u001b[0mamounts\u001b[0m\u001b[0;34m.\u001b[0m\u001b[0;34m\u001b[0m\u001b[0;34m\u001b[0m\u001b[0m\n\u001b[1;32m      8\u001b[0m \"\"\")\n\u001b[0;32m----> 9\u001b[0;31m \u001b[0mcar\u001b[0m \u001b[0;34m=\u001b[0m \u001b[0mraw_input\u001b[0m\u001b[0;34m(\u001b[0m\u001b[0;34m\"Lamborghini Tune-Ups: \"\u001b[0m\u001b[0;34m)\u001b[0m\u001b[0;34m\u001b[0m\u001b[0;34m\u001b[0m\u001b[0m\n\u001b[0m\u001b[1;32m     10\u001b[0m \u001b[0mcar\u001b[0m \u001b[0;34m=\u001b[0m \u001b[0mint\u001b[0m\u001b[0;34m(\u001b[0m\u001b[0mcar\u001b[0m\u001b[0;34m)\u001b[0m\u001b[0;34m\u001b[0m\u001b[0;34m\u001b[0m\u001b[0m\n\u001b[1;32m     11\u001b[0m \u001b[0mrent\u001b[0m \u001b[0;34m=\u001b[0m \u001b[0mint\u001b[0m\u001b[0;34m(\u001b[0m\u001b[0mraw_input\u001b[0m\u001b[0;34m(\u001b[0m\u001b[0;34m\"Manhattan Apartment: \"\u001b[0m\u001b[0;34m)\u001b[0m\u001b[0;34m)\u001b[0m\u001b[0;34m\u001b[0m\u001b[0;34m\u001b[0m\u001b[0m\n",
      "\u001b[0;31mNameError\u001b[0m: name 'raw_input' is not defined"
     ]
    }
   ],
   "source": [
    "#trust fund buddy - good\n",
    "#demonstrate type conversions\n",
    "#Michael Dawson - 1/14/03\n",
    "print ( \"\"\"\n",
    "                         Trust Fund Buddy\n",
    "Totals your monthly spending so that your trust fund doesn't run out (and you're forced to get a real job).\n",
    "Please enter the requested, monthly costs. Since you're rich, ignore pennies and use only dollar amounts.\n",
    "\"\"\")\n",
    "car = raw_input(\"Lamborghini Tune-Ups: \")\n",
    "car = int(car)\n",
    "rent = int(raw_input(\"Manhattan Apartment: \"))\n",
    "jet = int(raw_input(\"Private Jet Rental: \"))\n",
    "gifts = int(raw_input(\"Gifts: \"))\n",
    "food = int(raw_input(\"Dining Out: \"))\n",
    "staff = int(raw_input(\"Staff (butlers, chef, driver, assistant): \")) \n",
    "guru = int(raw_input(\"Personal Guru and Coach: \"))\n",
    "games = int(raw_input(\"Computer Games: \"))\n",
    "total = car + rent + jet + gifts + food + staff + guru + games \n",
    "print (\"\\nGrand Total: \", total)\n",
    "raw_input(\"\\n\\nPress the enter key to exit.\")"
   ]
  },
  {
   "cell_type": "code",
   "execution_count": null,
   "metadata": {},
   "outputs": [],
   "source": []
  }
 ],
 "metadata": {
  "kernelspec": {
   "display_name": "Python 3",
   "language": "python",
   "name": "python3"
  },
  "language_info": {
   "codemirror_mode": {
    "name": "ipython",
    "version": 3
   },
   "file_extension": ".py",
   "mimetype": "text/x-python",
   "name": "python",
   "nbconvert_exporter": "python",
   "pygments_lexer": "ipython3",
   "version": "3.7.1"
  }
 },
 "nbformat": 4,
 "nbformat_minor": 2
}
